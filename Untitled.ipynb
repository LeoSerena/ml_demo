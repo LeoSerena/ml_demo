{
 "cells": [
  {
   "cell_type": "code",
   "execution_count": 3,
   "id": "fa4b6a4f",
   "metadata": {},
   "outputs": [],
   "source": [
    "import numpy as np"
   ]
  },
  {
   "cell_type": "code",
   "execution_count": 4,
   "id": "a11cdef5",
   "metadata": {},
   "outputs": [],
   "source": [
    "array = list(np.random.randint(0, 1e8, 10000))"
   ]
  },
  {
   "cell_type": "code",
   "execution_count": 5,
   "id": "23db8e95",
   "metadata": {},
   "outputs": [],
   "source": [
    "def for_loop(a):\n",
    "    M = 0\n",
    "    for i in range(len(array)):\n",
    "        if a[i] > M:\n",
    "            M = a[i]\n",
    "    return M\n",
    "\n",
    "def max_(a):\n",
    "    return max(a)\n",
    "\n",
    "def np_max_casting(a):\n",
    "    a = np.array(a)\n",
    "    return np.max(a)\n",
    "\n",
    "def np_max(a):\n",
    "    return np.max(a)"
   ]
  },
  {
   "cell_type": "code",
   "execution_count": 6,
   "id": "fade0be6",
   "metadata": {},
   "outputs": [
    {
     "name": "stdout",
     "output_type": "stream",
     "text": [
      "364 µs ± 7.4 µs per loop (mean ± std. dev. of 7 runs, 1,000 loops each)\n"
     ]
    }
   ],
   "source": [
    "%timeit for_loop(array)"
   ]
  },
  {
   "cell_type": "code",
   "execution_count": 7,
   "id": "3e8ac188",
   "metadata": {},
   "outputs": [
    {
     "name": "stdout",
     "output_type": "stream",
     "text": [
      "96.8 µs ± 115 ns per loop (mean ± std. dev. of 7 runs, 10,000 loops each)\n"
     ]
    }
   ],
   "source": [
    "%timeit max_(array)"
   ]
  },
  {
   "cell_type": "code",
   "execution_count": 8,
   "id": "00d437dd",
   "metadata": {},
   "outputs": [
    {
     "name": "stdout",
     "output_type": "stream",
     "text": [
      "3.97 µs ± 32.6 ns per loop (mean ± std. dev. of 7 runs, 100,000 loops each)\n"
     ]
    }
   ],
   "source": [
    "array = np.array(array)\n",
    "%timeit np_max(array)"
   ]
  },
  {
   "cell_type": "code",
   "execution_count": 9,
   "id": "962c3f70",
   "metadata": {},
   "outputs": [
    {
     "name": "stdout",
     "output_type": "stream",
     "text": [
      "5.82 µs ± 45.4 ns per loop (mean ± std. dev. of 7 runs, 100,000 loops each)\n"
     ]
    }
   ],
   "source": [
    "%timeit np_max_casting(array)"
   ]
  },
  {
   "cell_type": "code",
   "execution_count": null,
   "id": "9a1c5ccc",
   "metadata": {},
   "outputs": [],
   "source": []
  }
 ],
 "metadata": {
  "kernelspec": {
   "display_name": "Python 3 (ipykernel)",
   "language": "python",
   "name": "python3"
  },
  "language_info": {
   "codemirror_mode": {
    "name": "ipython",
    "version": 3
   },
   "file_extension": ".py",
   "mimetype": "text/x-python",
   "name": "python",
   "nbconvert_exporter": "python",
   "pygments_lexer": "ipython3",
   "version": "3.10.8"
  }
 },
 "nbformat": 4,
 "nbformat_minor": 5
}
